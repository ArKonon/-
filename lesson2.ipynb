{
  "nbformat": 4,
  "nbformat_minor": 0,
  "metadata": {
    "colab": {
      "name": "lesson2.ipynb",
      "provenance": [],
      "collapsed_sections": []
    },
    "kernelspec": {
      "name": "python3",
      "display_name": "Python 3"
    },
    "language_info": {
      "name": "python"
    }
  },
  "cells": [
    {
      "cell_type": "code",
      "execution_count": 35,
      "metadata": {
        "id": "QDGFi9wh_gQn"
      },
      "outputs": [],
      "source": [
        "from bs4 import BeautifulSoup\n",
        "import requests\n",
        "import json"
      ]
    },
    {
      "cell_type": "code",
      "source": [
        "from requests.models import RequestEncodingMixin\n",
        "\n",
        "base_url = \"https://hh.ru\"\n",
        "\n",
        "headers  = {'User-agent': 'Mozilla/5.0 (Windows NT 10.0; Win64; x64) AppleWebKit/537.36 (KHTML, like Gecko) Chrome/99.0.4844.84 Safari/537.36'}\n",
        "\n",
        "keyword = input('Ключевое слово: ')\n",
        "\n",
        "url = f'{base_url}/{keyword}'\n",
        "response = requests.get(url, headers=headers)\n",
        "dom = BeautifulSoup(response.text, 'html.parser')\n",
        "vacancies = dom.find_all('div', {'class': 'vacancy-serp-item'})\n"
      ],
      "metadata": {
        "id": "AcRwS255CHBM",
        "colab": {
          "base_uri": "https://localhost:8080/"
        },
        "outputId": "77e6488d-2c48-4cee-9a40-5c21677fb7fb"
      },
      "execution_count": 36,
      "outputs": [
        {
          "name": "stdout",
          "output_type": "stream",
          "text": [
            "Ключевое слово: Python\n"
          ]
        }
      ]
    },
    {
      "cell_type": "code",
      "source": [
        "def max_num():\n",
        "    mxnum = 0\n",
        "    for item in dom.find_all('a', {'data-qa': 'pager-page'}):\n",
        "        mxnum = list(item.strings)[0].split(\" \")[-1]\n",
        "    return mxnum\n",
        "\n",
        "max_page = int(max_num())"
      ],
      "metadata": {
        "id": "feM5xK66Iym-"
      },
      "execution_count": 37,
      "outputs": []
    },
    {
      "cell_type": "code",
      "source": [
        "def data_collect(pages):\n",
        "    vacancies_list = []\n",
        "    for page in range(pages):\n",
        "        url2 = f'{base_url}/{keyword}?page={page}'\n",
        "        response2 = requests.get(url2, headers=headers)\n",
        "        dom2 = BeautifulSoup(response2.text, 'html.parser')\n",
        "        vacancies2 = dom2.find_all('div', {'class': 'vacancy-serp-item'})\n",
        "        for vacancy in vacancies2:\n",
        "            vacancy_data = {}\n",
        "            vacancy_title = vacancy.find('a', {'data-qa': 'vacancy-serp__vacancy-title'}).text.strip()\n",
        "            vacancy_employer = vacancy.find('div', {'class': 'vacancy-serp-item__meta-info-company'}).text.strip()\n",
        "            vacancy_link = vacancy.find('a', {'data-qa': 'vacancy-serp__vacancy-title'}).get('href')\n",
        "\n",
        "            vacancy_salary = vacancy.find('span', {'data-qa': 'vacancy-serp__vacancy-compensation'})\n",
        "            vacancy_salary_data = {'min_salary': '', 'max_salary': '', 'currency': ''}\n",
        "            if vacancy_salary is None:\n",
        "                vacancy_salary_data['min_salary'] = 'None'\n",
        "                vacancy_salary_data['max_salary'] = 'None'\n",
        "                vacancy_salary_data['currency'] = 'None'\n",
        "            else:\n",
        "                vacancy_salary = vacancy_salary.text.replace(\"\\u202f\", '').split()\n",
        "                if 'от' in vacancy_salary:\n",
        "                    if 'руб.' in vacancy_salary:\n",
        "                        vacancy_salary_data['min_salary'] = int(vacancy_salary[1])\n",
        "                        vacancy_salary_data['max_salary'] = 'None'\n",
        "                        vacancy_salary_data['currency'] = 'руб.'\n",
        "                    if 'USD' in vacancy_salary:\n",
        "                        vacancy_salary_data['min_salary'] = int(vacancy_salary[1])\n",
        "                        vacancy_salary_data['max_salary'] = 'None'\n",
        "                        vacancy_salary_data['currency'] = 'USD'\n",
        "                if 'до' in vacancy_salary:\n",
        "                    if 'руб.' in vacancy_salary:\n",
        "                        vacancy_salary_data['min_salary'] = 'None'\n",
        "                        vacancy_salary_data['max_salary'] = int(vacancy_salary[1])\n",
        "                        vacancy_salary_data['currency'] = 'руб.'\n",
        "                    if 'USD' in vacancy_salary:\n",
        "                        vacancy_salary_data['min_salary'] = 'None'\n",
        "                        vacancy_salary_data['max_salary'] = int(vacancy_salary[1])\n",
        "                        vacancy_salary_data['currency'] = 'USD'\n",
        "                if 'от' not in vacancy_salary and 'до' not in vacancy_salary:\n",
        "                    if 'руб.' in vacancy_salary:\n",
        "                        vacancy_salary_data['min_salary'] = int(vacancy_salary[0])\n",
        "                        vacancy_salary_data['max_salary'] = int(vacancy_salary[2])\n",
        "                        vacancy_salary_data['currency'] = 'руб.'\n",
        "                    if 'USD' in vacancy_salary:\n",
        "                        vacancy_salary_data['min_salary'] = int(vacancy_salary[0])\n",
        "                        vacancy_salary_data['max_salary'] = int(vacancy_salary[2])\n",
        "                        vacancy_salary_data['currency'] = 'USD'\n",
        "            vacancy_data['vacancy_title'] = vacancy_title\n",
        "            vacancy_data['vacancy_employer'] = vacancy_employer\n",
        "            vacancy_data['vacancy_link'] = vacancy_link\n",
        "            vacancy_data['vacancy_salary'] = vacancy_salary_data\n",
        "            vacancies_list.append(vacancy_data)\n",
        "    return vacancies_list\n",
        "\n",
        "\n",
        "data = data_collect(max_page)"
      ],
      "metadata": {
        "id": "sk2qk-gQJhQu"
      },
      "execution_count": 38,
      "outputs": []
    },
    {
      "cell_type": "code",
      "source": [
        "def data_to_json(data):\n",
        "    with open(f'{keyword}.json', 'w', encoding='utf-8') as file:\n",
        "        json.dump(data, file, ensure_ascii=False, indent=4)\n",
        "\n",
        "\n",
        "data_to_json(data)"
      ],
      "metadata": {
        "id": "SIVEggcXPTyx"
      },
      "execution_count": 39,
      "outputs": []
    }
  ]
}