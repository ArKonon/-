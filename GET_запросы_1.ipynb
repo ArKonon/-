{
  "nbformat": 4,
  "nbformat_minor": 0,
  "metadata": {
    "colab": {
      "name": "GET-запросы_1.ipynb",
      "provenance": []
    },
    "kernelspec": {
      "name": "python3",
      "display_name": "Python 3"
    },
    "language_info": {
      "name": "python"
    }
  },
  "cells": [
    {
      "cell_type": "code",
      "execution_count": null,
      "metadata": {
        "id": "zXfcdQxh8opw"
      },
      "outputs": [],
      "source": [
        "import requests\n",
        "import json"
      ]
    },
    {
      "cell_type": "code",
      "source": [
        "url = 'https://api.github.com'\n",
        "user='ArKonon'"
      ],
      "metadata": {
        "id": "LxHf3Mvfzr4N"
      },
      "execution_count": null,
      "outputs": []
    },
    {
      "cell_type": "code",
      "source": [
        "r = requests.get(f'{url}/users/{user}/repos')"
      ],
      "metadata": {
        "id": "M6D983VzzuW4"
      },
      "execution_count": null,
      "outputs": []
    },
    {
      "cell_type": "code",
      "source": [
        "with open('data.json', 'w') as f:\n",
        "    json.dump(r.json(), f)"
      ],
      "metadata": {
        "id": "NFFepop6z5HU"
      },
      "execution_count": null,
      "outputs": []
    },
    {
      "cell_type": "code",
      "source": [
        "for i in r.json():\n",
        "    print(i['name'])"
      ],
      "metadata": {
        "colab": {
          "base_uri": "https://localhost:8080/"
        },
        "id": "hx6Y250Gz7F0",
        "outputId": "4113b0c1-d335-4712-a5ad-b02e2c4bcacf"
      },
      "execution_count": null,
      "outputs": [
        {
          "output_type": "stream",
          "name": "stdout",
          "text": [
            "Homework\n"
          ]
        }
      ]
    }
  ]
}