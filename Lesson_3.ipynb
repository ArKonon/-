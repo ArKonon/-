{
  "nbformat": 4,
  "nbformat_minor": 0,
  "metadata": {
    "colab": {
      "name": "Lesson_3.ipynb",
      "provenance": [],
      "collapsed_sections": []
    },
    "kernelspec": {
      "name": "python3",
      "display_name": "Python 3"
    },
    "language_info": {
      "name": "python"
    }
  },
  "cells": [
    {
      "cell_type": "code",
      "execution_count": 1,
      "metadata": {
        "id": "9L1BtgTGNJ1R"
      },
      "outputs": [],
      "source": [
        "from pymongo import MongoClient\n",
        "from pymongo.errors import DuplicateKeyError\n",
        "from bs4 import BeautifulSoup\n",
        "import requests\n",
        "import hashlib\n",
        "import datetime as dt\n",
        "from pprint import pprint"
      ]
    },
    {
      "cell_type": "markdown",
      "source": [
        "1. Развернуть у себя на компьютере/виртуальной машине/хостинге MongoDB и реализовать функцию, которая будет добавлять только новые вакансии/продукты в вашу базу."
      ],
      "metadata": {
        "id": "iGW3HSC9BBIs"
      }
    },
    {
      "cell_type": "code",
      "source": [
        "client = MongoClient('localhost', 27017)\n",
        "\n",
        "db = client['lesson_3']\n",
        "jobs = db.jobs\n",
        "\n",
        "base_url = 'https://www.hh.ru/vacancies'\n",
        "headers = {'User-Agent': 'Mozilla/5.0 (Windows NT 10.0; Win64; x64) AppleWebKit/537.36 (KHTML, like Gecko) '\n",
        "                         'Chrome/98.0.4758.102 Safari/537.36'}\n",
        "keyword = input('Enter keyword : ')\n",
        "\n",
        "url = f'{base_url}/{keyword}'\n",
        "response = requests.get(url, headers=headers)\n",
        "dom = BeautifulSoup(response.text, 'html.parser')\n",
        "vacancies = dom.find_all('div', {'class': 'vacancy-serp-item'})\n",
        "\n",
        "\n",
        "def max_num():\n",
        "    mxnum = 0\n",
        "    for item in dom.find_all('a', {'data-qa': 'pager-page'}):\n",
        "        mxnum = list(item.strings)[0].split(\" \")[-1]\n",
        "    return mxnum\n",
        "\n",
        "\n",
        "max_page = int(max_num())\n",
        "\n",
        "\n",
        "def data_collect(pages):\n",
        "    # vacancies_list = []\n",
        "    for page in range(pages):\n",
        "        url2 = f'{base_url}/{keyword}?page={page}'\n",
        "        response2 = requests.get(url2, headers=headers)\n",
        "        dom2 = BeautifulSoup(response2.text, 'html.parser')\n",
        "        vacancies2 = dom2.find_all('div', {'class': 'vacancy-serp-item'})\n",
        "        for vacancy in vacancies2:\n",
        "            vacancy_data = {}\n",
        "            vacancy_title = vacancy.find('a', {'data-qa': 'vacancy-serp__vacancy-title'}).text.strip()\n",
        "            vacancy_employer = vacancy.find('div', {'class': 'vacancy-serp-item__meta-info-company'}).text.strip()\n",
        "            vacancy_link = vacancy.find('a', {'data-qa': 'vacancy-serp__vacancy-title'}).get('href')\n",
        "\n",
        "            vacancy_salary = vacancy.find('span', {'data-qa': 'vacancy-serp__vacancy-compensation'})\n",
        "            vacancy_salary_data = {'min_salary': '', 'max_salary': '', 'currency': ''}\n",
        "            if vacancy_salary is None:\n",
        "                vacancy_salary_data['min_salary'] = 'None'\n",
        "                vacancy_salary_data['max_salary'] = 'None'\n",
        "                vacancy_salary_data['currency'] = 'None'\n",
        "            else:\n",
        "                vacancy_salary = vacancy_salary.text.replace(\"\\u202f\", '').split()\n",
        "                if 'от' in vacancy_salary:\n",
        "                    if 'руб.' in vacancy_salary:\n",
        "                        vacancy_salary_data['min_salary'] = int(vacancy_salary[1])\n",
        "                        vacancy_salary_data['max_salary'] = 'None'\n",
        "                        vacancy_salary_data['currency'] = 'руб.'\n",
        "                    if 'USD' in vacancy_salary:\n",
        "                        vacancy_salary_data['min_salary'] = int(vacancy_salary[1])\n",
        "                        vacancy_salary_data['max_salary'] = 'None'\n",
        "                        vacancy_salary_data['currency'] = 'USD'\n",
        "                if 'до' in vacancy_salary:\n",
        "                    if 'руб.' in vacancy_salary:\n",
        "                        vacancy_salary_data['min_salary'] = 'None'\n",
        "                        vacancy_salary_data['max_salary'] = int(vacancy_salary[1])\n",
        "                        vacancy_salary_data['currency'] = 'руб.'\n",
        "                    if 'USD' in vacancy_salary:\n",
        "                        vacancy_salary_data['min_salary'] = 'None'\n",
        "                        vacancy_salary_data['max_salary'] = int(vacancy_salary[1])\n",
        "                        vacancy_salary_data['currency'] = 'USD'\n",
        "                if 'от' not in vacancy_salary and 'до' not in vacancy_salary:\n",
        "                    if 'руб.' in vacancy_salary:\n",
        "                        vacancy_salary_data['min_salary'] = int(vacancy_salary[0])\n",
        "                        vacancy_salary_data['max_salary'] = int(vacancy_salary[2])\n",
        "                        vacancy_salary_data['currency'] = 'руб.'\n",
        "                    if 'USD' in vacancy_salary:\n",
        "                        vacancy_salary_data['min_salary'] = int(vacancy_salary[0])\n",
        "                        vacancy_salary_data['max_salary'] = int(vacancy_salary[2])\n",
        "                        vacancy_salary_data['currency'] = 'USD'\n",
        "\n",
        "            \n",
        "            link_pre_encode = vacancy_link.encode()\n",
        "            link_encode = hashlib.sha256(link_pre_encode)\n",
        "            link_hex = link_encode.hexdigest()\n",
        "            \n",
        "            vacancy_data['_id'] = link_hex\n",
        "            vacancy_data['vacancy_title'] = vacancy_title\n",
        "            vacancy_data['vacancy_employer'] = vacancy_employer\n",
        "            vacancy_data['vacancy_link'] = vacancy_link\n",
        "            vacancy_data['vacancy_salary'] = vacancy_salary_data\n",
        "            vacancy_data['time_added'] = dt.datetime.now()\n",
        "            \n",
        "            try:\n",
        "                jobs.insert_one(vacancy_data)\n",
        "            except DuplicateKeyError:\n",
        "                print(f\"Document with id = {link_hex} already exists\")\n",
        "\n",
        "\n",
        "data_collect(max_page)"
      ],
      "metadata": {
        "colab": {
          "base_uri": "https://localhost:8080/"
        },
        "id": "NUnmGq9XA52w",
        "outputId": "0a65b4be-a625-4dd2-9512-aa0253785c2c"
      },
      "execution_count": 2,
      "outputs": [
        {
          "name": "stdout",
          "output_type": "stream",
          "text": [
            "Enter keyword : Python\n"
          ]
        }
      ]
    },
    {
      "cell_type": "markdown",
      "source": [
        "2. Написать функцию, которая производит поиск и выводит на экран вакансии с заработной платой больше введённой суммы (необходимо анализировать оба поля зарплаты). Для тех, кто выполнил задание с Росконтролем - напишите запрос для поиска продуктов с рейтингом не ниже введенного или качеством не ниже введенного (то есть цифра вводится одна, а запрос проверяет оба поля)"
      ],
      "metadata": {
        "id": "SAQxc7oYBwKh"
      }
    },
    {
      "cell_type": "code",
      "source": [
        "client = MongoClient('localhost', 27017)\n",
        "db = client['lesson_3']\n",
        "jobs = db.jobs\n",
        "\n",
        "user_input = int(input('Enter min salary : '))\n",
        "\n",
        "\n",
        "def db_min_salary_search(user_input):\n",
        "    for a in jobs.find(\n",
        "            {'$or': [{\"vacancy_salary.min_salary\": {'$gt': user_input}},\n",
        "                     {\"vacancy_salary.max_salary\": {'$gt': user_input}}]}):\n",
        "        pprint(a)\n",
        "\n",
        "\n",
        "db_min_salary_search(user_input)"
      ],
      "metadata": {
        "id": "yjeBTTSVCRni"
      },
      "execution_count": null,
      "outputs": []
    }
  ]
}