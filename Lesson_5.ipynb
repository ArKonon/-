{
  "nbformat": 4,
  "nbformat_minor": 0,
  "metadata": {
    "colab": {
      "name": "Lesson_5.ipynb",
      "provenance": []
    },
    "kernelspec": {
      "name": "python3",
      "display_name": "Python 3"
    },
    "language_info": {
      "name": "python"
    }
  },
  "cells": [
    {
      "cell_type": "markdown",
      "source": [
        "Вариант II\n",
        "\n",
        "2) Написать программу, которая собирает товары «В тренде» с сайта техники mvideo и складывает данные в БД. Сайт можно выбрать и свой. Главный критерий выбора: динамически загружаемые товары"
      ],
      "metadata": {
        "id": "4xG9BqbcB0M-"
      }
    },
    {
      "cell_type": "code",
      "source": [
        "import time\n",
        "from pprint import pprint\n",
        "from selenium import webdriver\n",
        "from selenium.webdriver.chrome.service import Service\n",
        "from selenium.webdriver.common.by import By\n",
        "from selenium.webdriver.common.keys import Keys\n",
        "from selenium.webdriver.common.action_chains import ActionChains\n",
        "from selenium.webdriver.support.ui import WebDriverWait\n",
        "from selenium.webdriver.support import expected_conditions as EC\n",
        "from selenium.webdriver.chrome.options import Options\n"
      ],
      "metadata": {
        "id": "SF2vc1thCHWl"
      },
      "execution_count": null,
      "outputs": []
    },
    {
      "cell_type": "code",
      "source": [
        "options = Options()\n",
        "options.add_argument(\"start-maximized\")\n",
        "\n",
        "s = Service('./chromedriver.exe')\n",
        "driver = webdriver.Chrome(service=s, options=options)\n",
        "actions = ActionChains(driver)\n",
        "driver.get('https://www.mvideo.ru/')\n",
        "actions.send_keys(Keys.SPACE).send_keys(Keys.SPACE).perform()\n",
        "\n",
        "wait = WebDriverWait(driver, 10)\n",
        "button = wait.until(EC.element_to_be_clickable((By.XPATH, \"//span[contains(text(),'В тренде')]\")))\n",
        "button.click()\n",
        "\n",
        "links = driver.find_elements(By.XPATH, \"//mvid-shelf-group//a[@class='img-with-badge ng-star-inserted']\")\n",
        "links_list = []\n",
        "\n",
        "for link in links:\n",
        "    links_list.append(link.get_attribute(\"href\"))\n",
        "\n",
        "for trend in links_list:\n",
        "    driver.get(trend)\n",
        "    driver.implicitly_wait(20)\n",
        "    data = {}\n",
        "    product = driver.find_element(By.XPATH, \"//h1[@class='title']\")\n",
        "    price = driver.find_element(By.XPATH, \"//span[@class='price__main-value']\")\n",
        "    data['product'] = product.text\n",
        "    data['price'] = price.text\n",
        "\n",
        "    pprint(data)"
      ],
      "metadata": {
        "id": "QAVXxJV8B4ev"
      },
      "execution_count": null,
      "outputs": []
    }
  ]
}