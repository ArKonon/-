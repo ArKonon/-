{
  "nbformat": 4,
  "nbformat_minor": 0,
  "metadata": {
    "colab": {
      "name": "Lesson_4.ipynb",
      "provenance": [],
      "collapsed_sections": []
    },
    "kernelspec": {
      "name": "python3",
      "display_name": "Python 3"
    },
    "language_info": {
      "name": "python"
    }
  },
  "cells": [
    {
      "cell_type": "markdown",
      "source": [
        "1.Написать приложение, которое собирает основные новости с сайта на выбор news.mail.ru, lenta.ru, yandex-новости.\n",
        "Для парсинга использовать XPath. Структура данных должна содержать:\n",
        "\n",
        "название источника;\n",
        "\n",
        "наименование новости;\n",
        "\n",
        "ссылку на новость;\n",
        "\n",
        "дата публикации.\n",
        "    \n",
        "2.Сложить собранные новости в БД\n",
        "Минимум один сайт, максимум - все три"
      ],
      "metadata": {
        "id": "LM_H8aQs_J3W"
      }
    },
    {
      "cell_type": "code",
      "execution_count": 1,
      "metadata": {
        "id": "VHLx608E_AJd"
      },
      "outputs": [],
      "source": [
        "import hashlib\n",
        "from lxml import html\n",
        "import requests\n",
        "from pymongo import MongoClient\n",
        "from pymongo.errors import DuplicateKeyError"
      ]
    },
    {
      "cell_type": "code",
      "source": [
        "client = MongoClient('localhost', 27017)\n",
        "db = client['lesson_4_DB']\n",
        "bbc_articles = db.bbc_articles\n",
        "\n",
        "url = 'https://www.bbc.com/russian'\n",
        "header = {'User-Agent': 'Mozilla/5.0 (Windows NT 10.0; Win64; x64) AppleWebKit/537.36 (KHTML, like Gecko) '\n",
        "                        'Chrome/98.0.4758.102 Safari/537.36'}\n",
        "response = requests.get(url, headers=header)\n",
        "dom = html.fromstring(response.text)\n",
        "\n",
        "\n",
        "def add_to_database():\n",
        "    articles = dom.xpath(\"//li[@class='e57qer20 bbc-lpu9rr eom0ln51']\")\n",
        "    for article in articles:\n",
        "        articles_data = {}\n",
        "        name = article.xpath(\".//h3[@class='bbc-t81ytv e1tfxkuo2']/a[@href]/span[@id]/text()\")\n",
        "        link = article.xpath(\".//h3[@class='bbc-t81ytv e1tfxkuo2']/a[@href]/@href\")\n",
        "        time = article.xpath(\".//div[@class='bbc-1sk5sm2 e19k1v2h0']/time[@datetime]/text()\")\n",
        "\n",
        "        name_pre_encode = name[0].encode()\n",
        "        name_encode = hashlib.sha256(name_pre_encode)\n",
        "        name_hex = name_encode.hexdigest()\n",
        "\n",
        "        articles_data['_id'] = name_hex\n",
        "        articles_data['name'] = name\n",
        "        articles_data['link'] = f\"{url}{link[0]}\"\n",
        "        articles_data['time'] = time\n",
        "\n",
        "        try:\n",
        "            bbc_articles.insert_one(articles_data)\n",
        "        except DuplicateKeyError:\n",
        "            print(f\"Document already exists\")\n",
        "\n",
        "\n",
        "add_to_database()"
      ],
      "metadata": {
        "id": "rFRQ8cxzAA-Q"
      },
      "execution_count": null,
      "outputs": []
    },
    {
      "cell_type": "code",
      "source": [
        "url = 'https://yandex.ru/news/'\n",
        "header = {'User-Agent': 'Mozilla/5.0 (Windows NT 10.0; Win64; x64) AppleWebKit/537.36 (KHTML, like Gecko)'\n",
        "                        'Chrome/98.0.4758.102 Safari/537.36'}\n",
        "response = requests.get(url, headers=header)\n",
        "dom = html.fromstring(response.text)\n",
        "\n",
        "client = MongoClient('localhost', 27017)\n",
        "db = client['lesson_4_DB']\n",
        "yandex_articles = db.yandex_articles\n",
        "\n",
        "\n",
        "def add_to_db():\n",
        "    articles = dom.xpath(\"//div[@class='mg-grid__col mg-grid__col_xs_6']\")\n",
        "    for article in articles:\n",
        "        articles_data = {}\n",
        "\n",
        "        name = article.xpath(\".//a[@class='mg-card__link']/text()\")\n",
        "        source = article.xpath(\".//a[@class='mg-card__source-link']/text()\")\n",
        "        time = article.xpath(\".//span[@class='mg-card-source__time']/text()\")\n",
        "        link = article.xpath(\".//a[@class='mg-card__link']/@href\")\n",
        "\n",
        "        name_pre_encode = name[0].encode()\n",
        "        name_encode = hashlib.sha256(name_pre_encode)\n",
        "        name_hex = name_encode.hexdigest()\n",
        "\n",
        "        articles_data['_id'] = name_hex\n",
        "        articles_data['name'] = name\n",
        "        articles_data['link'] = link\n",
        "        articles_data['time'] = time\n",
        "        articles_data['source'] = source\n",
        "\n",
        "        try:\n",
        "            yandex_articles.insert_one(articles_data)\n",
        "        except DuplicateKeyError:\n",
        "            print(f\"Document already exists\")\n",
        "\n",
        "\n",
        "add_to_db()"
      ],
      "metadata": {
        "id": "8Be54NWU_yoS"
      },
      "execution_count": null,
      "outputs": []
    }
  ]
}